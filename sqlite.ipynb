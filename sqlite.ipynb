{
 "cells": [
  {
   "cell_type": "code",
   "execution_count": 11,
   "metadata": {},
   "outputs": [
    {
     "data": {
      "text/html": [
       "<div>\n",
       "<style scoped>\n",
       "    .dataframe tbody tr th:only-of-type {\n",
       "        vertical-align: middle;\n",
       "    }\n",
       "\n",
       "    .dataframe tbody tr th {\n",
       "        vertical-align: top;\n",
       "    }\n",
       "\n",
       "    .dataframe thead th {\n",
       "        text-align: right;\n",
       "    }\n",
       "</style>\n",
       "<table border=\"1\" class=\"dataframe\">\n",
       "  <thead>\n",
       "    <tr style=\"text-align: right;\">\n",
       "      <th></th>\n",
       "      <th>tweet</th>\n",
       "      <th>date8</th>\n",
       "      <th>year</th>\n",
       "    </tr>\n",
       "  </thead>\n",
       "  <tbody>\n",
       "    <tr>\n",
       "      <th>0</th>\n",
       "      <td>..... #domesticviolence</td>\n",
       "      <td>16jan2023</td>\n",
       "      <td>2023</td>\n",
       "    </tr>\n",
       "    <tr>\n",
       "      <th>1</th>\n",
       "      <td>what an #mlkday of service! thank you to deleg...</td>\n",
       "      <td>16jan2023</td>\n",
       "      <td>2023</td>\n",
       "    </tr>\n",
       "    <tr>\n",
       "      <th>2</th>\n",
       "      <td>special thank you to @fenwickwest for supporti...</td>\n",
       "      <td>16jan2023</td>\n",
       "      <td>2023</td>\n",
       "    </tr>\n",
       "    <tr>\n",
       "      <th>3</th>\n",
       "      <td>he loves me so much, heâll slash the tires o...</td>\n",
       "      <td>16jan2023</td>\n",
       "      <td>2023</td>\n",
       "    </tr>\n",
       "    <tr>\n",
       "      <th>4</th>\n",
       "      <td>#analysis of 2018-2019 #maternalmortality #dat...</td>\n",
       "      <td>16jan2023</td>\n",
       "      <td>2023</td>\n",
       "    </tr>\n",
       "  </tbody>\n",
       "</table>\n",
       "</div>"
      ],
      "text/plain": [
       "                                               tweet      date8  year\n",
       "0                            ..... #domesticviolence  16jan2023  2023\n",
       "1  what an #mlkday of service! thank you to deleg...  16jan2023  2023\n",
       "2  special thank you to @fenwickwest for supporti...  16jan2023  2023\n",
       "3  he loves me so much, heâll slash the tires o...  16jan2023  2023\n",
       "4  #analysis of 2018-2019 #maternalmortality #dat...  16jan2023  2023"
      ]
     },
     "execution_count": 11,
     "metadata": {},
     "output_type": "execute_result"
    }
   ],
   "source": [
    "#save GBV data in python\n",
    "import pandas as pd\n",
    "import sqlite3\n",
    "\n",
    "# Read CSV file into a DataFrame\n",
    "#df = pd.read_csv('your_data.csv')\n",
    "df = pd.read_csv('P:/Msc DSA/Dissertation/2024/Data/Unlabelled/GBV_database.csv', encoding='latin', engine='python',usecols=['tweet','date8','year'])\n",
    "df.head()"
   ]
  },
  {
   "cell_type": "code",
   "execution_count": 12,
   "metadata": {},
   "outputs": [],
   "source": [
    "import pandas as pd\n",
    "import sqlite3\n",
    "\n",
    "# Read CSV file into a DataFrame\n",
    "#df = pd.read_csv('your_data.csv')\n",
    "df = pd.read_csv('P:/Msc DSA/Dissertation/2024/Data/Unlabelled/GBV_database.csv',encoding='latin',engine='python',usecols=['tweet','date8','year'])\n",
    "df.head()\n",
    "\n",
    "\n",
    "# Connect to a new SQLite database (will be created if it doesn't exist)\n",
    "conn = sqlite3.connect('gbv.db')\n",
    "\n",
    "# Write DataFrame to SQLite database\n",
    "df.to_sql('unlabelled', conn, if_exists='replace', index=False)\n",
    "\n",
    "# Close the connection\n",
    "conn.close()"
   ]
  }
 ],
 "metadata": {
  "kernelspec": {
   "display_name": "base",
   "language": "python",
   "name": "python3"
  },
  "language_info": {
   "codemirror_mode": {
    "name": "ipython",
    "version": 3
   },
   "file_extension": ".py",
   "mimetype": "text/x-python",
   "name": "python",
   "nbconvert_exporter": "python",
   "pygments_lexer": "ipython3",
   "version": "3.8.3"
  }
 },
 "nbformat": 4,
 "nbformat_minor": 2
}
